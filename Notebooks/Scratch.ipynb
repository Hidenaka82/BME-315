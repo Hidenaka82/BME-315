{
 "cells": [
  {
   "cell_type": "markdown",
   "metadata": {},
   "source": [
    "# Pattern Count Algorithm"
   ]
  },
  {
   "cell_type": "code",
   "execution_count": 1,
   "metadata": {},
   "outputs": [],
   "source": [
    "Text = \"AACAAGCATAAACATTAAAGAG\"\n",
    "Pattern = \"AAA\"    #length of pattern = 3"
   ]
  },
  {
   "cell_type": "code",
   "execution_count": 2,
   "metadata": {},
   "outputs": [],
   "source": [
    "\n",
    "def PatternCount(Text, Pattern):  #counts the number of set pattern that has been repeated.\n",
    "    count = 0\n",
    "    for i in range(len(Text)-len(Pattern)+1):    #sliding window method\n",
    "        if (Text[i:i+len(Pattern)] == Pattern):   #from index \"0\" to \"0+3\"  index[0,1,2]=pattern='AAA'\n",
    "            count += 1 \n",
    "    return count\n"
   ]
  },
  {
   "cell_type": "code",
   "execution_count": 3,
   "metadata": {},
   "outputs": [
    {
     "data": {
      "text/plain": [
       "2"
      ]
     },
     "execution_count": 3,
     "metadata": {},
     "output_type": "execute_result"
    }
   ],
   "source": [
    "PatternCount('AACAAGCATAAACATTAAAGAG','AAA')"
   ]
  },
  {
   "cell_type": "markdown",
   "metadata": {},
   "source": [
    "# Find the Max Algorithm"
   ]
  },
  {
   "cell_type": "code",
   "execution_count": 12,
   "metadata": {},
   "outputs": [],
   "source": [
    "def FindMax(Count):\n",
    "    max = Count[0]       #Creating a list of arrays\n",
    "    for item in Count:   #generating each lists \n",
    "        if item > max:\n",
    "            max = item\n",
    "    return max\n"
   ]
  },
  {
   "cell_type": "code",
   "execution_count": 13,
   "metadata": {},
   "outputs": [
    {
     "data": {
      "text/plain": [
       "32"
      ]
     },
     "execution_count": 13,
     "metadata": {},
     "output_type": "execute_result"
    }
   ],
   "source": [
    "FindMax([12,5,15,7,32,3]) #test to run"
   ]
  },
  {
   "cell_type": "markdown",
   "metadata": {},
   "source": [
    "# Frequent Words Algorithm\n",
    "This is going to be a main function to generate"
   ]
  },
  {
   "cell_type": "code",
   "execution_count": 66,
   "metadata": {},
   "outputs": [],
   "source": [
    "def FrequentWords(Seq, k): #k = pattern\n",
    "    FrequentPattern = []\n",
    "    count = []\n",
    "    maxCount = 0\n",
    "    MotifCountDict = {}      #Making a dictionary for this.    ex:{\"AAA\":1, \"ATG\":3, \"TTT\":5}\n",
    "    m_count = 0              #Maximum of counts for patternCount\n",
    "    \n",
    "    for i in range(0, (len(Seq)-k) +1 ):\n",
    "        motif = Seq[i:i+k]                  #pull out first 3 letters and then shift\n",
    "        m_count = PatternCount(Seq,motif)   # Use pattern count function  Seq=Sequence, motif=pattern(k)  \n",
    "        count.append(m_count)\n",
    "        MotifCountDict[motif] = m_count\n",
    "    \n",
    "    maxCount = FindMax(count)               #using count(list) to find the most frequent counts\n",
    "    for i in range(0, (len(Seq)-k) +1 ):\n",
    "        if (count[i]==maxCount):            #if the most frequent# is equal to count(list), it will get that pattern!\n",
    "            pattern = Seq[i:i+k]\n",
    "            print(pattern)  #display most frequent pattern in numerical\n",
    "            print(MotifCountDict[pattern])\n",
    "    print(\"the most frequent pattern is: \"+ pattern)"
   ]
  },
  {
   "cell_type": "code",
   "execution_count": 67,
   "metadata": {},
   "outputs": [
    {
     "name": "stdout",
     "output_type": "stream",
     "text": [
      "AAT\n",
      "3\n",
      "ATT\n",
      "3\n",
      "TTT\n",
      "3\n",
      "AAT\n",
      "3\n",
      "ATT\n",
      "3\n",
      "TTT\n",
      "3\n",
      "AAT\n",
      "3\n",
      "ATT\n",
      "3\n",
      "TTT\n",
      "3\n",
      "the most frequent pattern is: TTT\n"
     ]
    }
   ],
   "source": [
    "FrequentWords('ACAAATTTGCATAATTTCGGGAAATTTCCT',3)    # test to run "
   ]
  },
  {
   "cell_type": "markdown",
   "metadata": {},
   "source": [
    "# FasterFrequentWords algorithm"
   ]
  },
  {
   "cell_type": "code",
   "execution_count": null,
   "metadata": {},
   "outputs": [],
   "source": []
  },
  {
   "cell_type": "code",
   "execution_count": null,
   "metadata": {},
   "outputs": [],
   "source": []
  },
  {
   "cell_type": "code",
   "execution_count": null,
   "metadata": {},
   "outputs": [],
   "source": []
  },
  {
   "cell_type": "code",
   "execution_count": null,
   "metadata": {},
   "outputs": [],
   "source": []
  },
  {
   "cell_type": "code",
   "execution_count": null,
   "metadata": {},
   "outputs": [],
   "source": []
  }
 ],
 "metadata": {
  "kernelspec": {
   "display_name": "Python 3",
   "language": "python",
   "name": "python3"
  },
  "language_info": {
   "codemirror_mode": {
    "name": "ipython",
    "version": 3
   },
   "file_extension": ".py",
   "mimetype": "text/x-python",
   "name": "python",
   "nbconvert_exporter": "python",
   "pygments_lexer": "ipython3",
   "version": "3.7.5"
  }
 },
 "nbformat": 4,
 "nbformat_minor": 2
}
