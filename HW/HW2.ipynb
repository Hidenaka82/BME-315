{
 "cells": [
  {
   "cell_type": "markdown",
   "metadata": {},
   "source": [
    "# Due: March 2, 2020\n",
    "In this assignment, you will develop three algorithm from the text book (Lectures)."
   ]
  },
  {
   "cell_type": "markdown",
   "metadata": {},
   "source": [
    "### 1- Write a Python code for ComputingFrequencies algorithm."
   ]
  },
  {
   "cell_type": "code",
   "execution_count": 1,
   "metadata": {},
   "outputs": [
    {
     "data": {
      "text/plain": [
       "'TTT'"
      ]
     },
     "execution_count": 1,
     "metadata": {},
     "output_type": "execute_result"
    }
   ],
   "source": [
    "def PatternCount(Text, Pattern):  #counts the number of pattern \n",
    "    count = 0\n",
    "    for i in range(len(Text)-len(Pattern)+1):    #sliding window method\n",
    "        if (Text[i:i+len(Pattern)] == Pattern):   #from index \"0\" to \"0+3\"  index[0,1,2]=pattern='AAA'\n",
    "            count += 1 \n",
    "    return count\n",
    "#-----------------------------------------\n",
    "\n",
    "def FindMax(Count):\n",
    "    max = Count[0]       #Creating a list of arrays\n",
    "    for item in Count:   #generating each lists \n",
    "        if item > max:\n",
    "            max = item\n",
    "    return max\n",
    "\n",
    "#-----------------------------------------\n",
    "\n",
    "def FrequentWords(Seq, k): #k = pattern\n",
    "    FrequentPattern = []\n",
    "    count = []\n",
    "    maxCount = 0\n",
    "    MotifCountDict = {}\n",
    "    m_count = 0\n",
    "    \n",
    "    for i in range(0, (len(Seq)-k) +1 ):\n",
    "        motif = Seq[i:i+k]\n",
    "        m_count = PatternCount(Seq,motif)   # Use pattern count function\n",
    "        count.append(m_count)\n",
    "        MotifCountDict[motif] = m_count\n",
    "    \n",
    "    maxCount = FindMax(count)\n",
    "    for i in range(0, (len(Seq)-k) +1 ):\n",
    "        if (count[i]==maxCount):\n",
    "            pattern = Seq[i:i+k]\n",
    "            #print(MotifCountDict[pattern])\n",
    "    \n",
    "    return pattern\n",
    "    \n",
    "FrequentWords('ACAAATTTGCATAATTTCGGGAAATTTCCT',3)\n",
    "\n",
    "\n"
   ]
  },
  {
   "cell_type": "markdown",
   "metadata": {},
   "source": [
    "### 2- Write a Python code for FasterFrequentWords algorithm."
   ]
  },
  {
   "cell_type": "code",
   "execution_count": null,
   "metadata": {},
   "outputs": [],
   "source": []
  },
  {
   "cell_type": "markdown",
   "metadata": {},
   "source": [
    "### 3- Find and report the count of all k-mers for the given datset.\n",
    "They dataset is uploaded on BeachBoard. Run your code for k =6 and k =8"
   ]
  },
  {
   "cell_type": "code",
   "execution_count": null,
   "metadata": {},
   "outputs": [],
   "source": []
  },
  {
   "cell_type": "markdown",
   "metadata": {},
   "source": [
    "### 4- For your report, include the following questions:\n",
    "\n",
    "#### a. Report the total number of different k-mers that are generated for k =6 and 8\n",
    "#### b. Report the first 3 most repeated k-mers for both k = 6 and 8\n",
    "#### c. Report the location (index) of the first 3 most repeated k-mers when k =6 and 8"
   ]
  },
  {
   "cell_type": "code",
   "execution_count": null,
   "metadata": {},
   "outputs": [],
   "source": []
  }
 ],
 "metadata": {
  "kernelspec": {
   "display_name": "Python 3",
   "language": "python",
   "name": "python3"
  },
  "language_info": {
   "codemirror_mode": {
    "name": "ipython",
    "version": 3
   },
   "file_extension": ".py",
   "mimetype": "text/x-python",
   "name": "python",
   "nbconvert_exporter": "python",
   "pygments_lexer": "ipython3",
   "version": "3.7.5"
  }
 },
 "nbformat": 4,
 "nbformat_minor": 2
}
